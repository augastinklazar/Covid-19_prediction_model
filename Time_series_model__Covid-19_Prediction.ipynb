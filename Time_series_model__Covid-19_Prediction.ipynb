{
 "cells": [
  {
   "cell_type": "code",
   "execution_count": 1,
   "id": "04b049c9",
   "metadata": {},
   "outputs": [
    {
     "name": "stderr",
     "output_type": "stream",
     "text": [
      "Importing plotly failed. Interactive plots will not work.\n"
     ]
    }
   ],
   "source": [
    "from fbprophet import Prophet"
   ]
  },
  {
   "cell_type": "code",
   "execution_count": 2,
   "id": "e0e400fe",
   "metadata": {
    "scrolled": true
   },
   "outputs": [
    {
     "data": {
      "text/plain": [
       "['__class__',\n",
       " '__delattr__',\n",
       " '__dict__',\n",
       " '__dir__',\n",
       " '__doc__',\n",
       " '__eq__',\n",
       " '__format__',\n",
       " '__ge__',\n",
       " '__getattribute__',\n",
       " '__gt__',\n",
       " '__hash__',\n",
       " '__init__',\n",
       " '__init_subclass__',\n",
       " '__le__',\n",
       " '__lt__',\n",
       " '__module__',\n",
       " '__ne__',\n",
       " '__new__',\n",
       " '__reduce__',\n",
       " '__reduce_ex__',\n",
       " '__repr__',\n",
       " '__setattr__',\n",
       " '__sizeof__',\n",
       " '__str__',\n",
       " '__subclasshook__',\n",
       " '__weakref__',\n",
       " '_load_stan_backend',\n",
       " 'add_country_holidays',\n",
       " 'add_group_component',\n",
       " 'add_regressor',\n",
       " 'add_seasonality',\n",
       " 'construct_holiday_dataframe',\n",
       " 'fit',\n",
       " 'flat_growth_init',\n",
       " 'flat_trend',\n",
       " 'fourier_series',\n",
       " 'initialize_scales',\n",
       " 'linear_growth_init',\n",
       " 'logistic_growth_init',\n",
       " 'make_all_seasonality_features',\n",
       " 'make_future_dataframe',\n",
       " 'make_holiday_features',\n",
       " 'make_seasonality_features',\n",
       " 'parse_seasonality_args',\n",
       " 'percentile',\n",
       " 'piecewise_linear',\n",
       " 'piecewise_logistic',\n",
       " 'plot',\n",
       " 'plot_components',\n",
       " 'predict',\n",
       " 'predict_seasonal_components',\n",
       " 'predict_trend',\n",
       " 'predict_uncertainty',\n",
       " 'predictive_samples',\n",
       " 'regressor_column_matrix',\n",
       " 'sample_model',\n",
       " 'sample_posterior_predictive',\n",
       " 'sample_predictive_trend',\n",
       " 'set_auto_seasonalities',\n",
       " 'set_changepoints',\n",
       " 'setup_dataframe',\n",
       " 'validate_column_name',\n",
       " 'validate_inputs']"
      ]
     },
     "execution_count": 2,
     "metadata": {},
     "output_type": "execute_result"
    }
   ],
   "source": [
    "dir(Prophet)"
   ]
  },
  {
   "cell_type": "code",
   "execution_count": 3,
   "id": "4fef8988",
   "metadata": {},
   "outputs": [],
   "source": [
    "import pandas as pds"
   ]
  },
  {
   "cell_type": "code",
   "execution_count": 4,
   "id": "30fb53fb",
   "metadata": {},
   "outputs": [],
   "source": [
    "df = pds.read_csv(r'D:\\time series\\covid_19_clean_complete.csv')     #data pre-processing"
   ]
  },
  {
   "cell_type": "code",
   "execution_count": 5,
   "id": "9b0cffbc",
   "metadata": {},
   "outputs": [
    {
     "data": {
      "text/html": [
       "<div>\n",
       "<style scoped>\n",
       "    .dataframe tbody tr th:only-of-type {\n",
       "        vertical-align: middle;\n",
       "    }\n",
       "\n",
       "    .dataframe tbody tr th {\n",
       "        vertical-align: top;\n",
       "    }\n",
       "\n",
       "    .dataframe thead th {\n",
       "        text-align: right;\n",
       "    }\n",
       "</style>\n",
       "<table border=\"1\" class=\"dataframe\">\n",
       "  <thead>\n",
       "    <tr style=\"text-align: right;\">\n",
       "      <th></th>\n",
       "      <th>Province/State</th>\n",
       "      <th>Country/Region</th>\n",
       "      <th>Lat</th>\n",
       "      <th>Long</th>\n",
       "      <th>Date</th>\n",
       "      <th>Confirmed</th>\n",
       "      <th>Deaths</th>\n",
       "      <th>Recovered</th>\n",
       "      <th>Active</th>\n",
       "      <th>WHO Region</th>\n",
       "    </tr>\n",
       "  </thead>\n",
       "  <tbody>\n",
       "    <tr>\n",
       "      <th>0</th>\n",
       "      <td>NaN</td>\n",
       "      <td>Afghanistan</td>\n",
       "      <td>33.93911</td>\n",
       "      <td>67.709953</td>\n",
       "      <td>2020-01-22</td>\n",
       "      <td>0</td>\n",
       "      <td>0</td>\n",
       "      <td>0</td>\n",
       "      <td>0</td>\n",
       "      <td>Eastern Mediterranean</td>\n",
       "    </tr>\n",
       "    <tr>\n",
       "      <th>1</th>\n",
       "      <td>NaN</td>\n",
       "      <td>Albania</td>\n",
       "      <td>41.15330</td>\n",
       "      <td>20.168300</td>\n",
       "      <td>2020-01-22</td>\n",
       "      <td>0</td>\n",
       "      <td>0</td>\n",
       "      <td>0</td>\n",
       "      <td>0</td>\n",
       "      <td>Europe</td>\n",
       "    </tr>\n",
       "    <tr>\n",
       "      <th>2</th>\n",
       "      <td>NaN</td>\n",
       "      <td>Algeria</td>\n",
       "      <td>28.03390</td>\n",
       "      <td>1.659600</td>\n",
       "      <td>2020-01-22</td>\n",
       "      <td>0</td>\n",
       "      <td>0</td>\n",
       "      <td>0</td>\n",
       "      <td>0</td>\n",
       "      <td>Africa</td>\n",
       "    </tr>\n",
       "    <tr>\n",
       "      <th>3</th>\n",
       "      <td>NaN</td>\n",
       "      <td>Andorra</td>\n",
       "      <td>42.50630</td>\n",
       "      <td>1.521800</td>\n",
       "      <td>2020-01-22</td>\n",
       "      <td>0</td>\n",
       "      <td>0</td>\n",
       "      <td>0</td>\n",
       "      <td>0</td>\n",
       "      <td>Europe</td>\n",
       "    </tr>\n",
       "    <tr>\n",
       "      <th>4</th>\n",
       "      <td>NaN</td>\n",
       "      <td>Angola</td>\n",
       "      <td>-11.20270</td>\n",
       "      <td>17.873900</td>\n",
       "      <td>2020-01-22</td>\n",
       "      <td>0</td>\n",
       "      <td>0</td>\n",
       "      <td>0</td>\n",
       "      <td>0</td>\n",
       "      <td>Africa</td>\n",
       "    </tr>\n",
       "  </tbody>\n",
       "</table>\n",
       "</div>"
      ],
      "text/plain": [
       "  Province/State Country/Region       Lat       Long        Date  Confirmed  \\\n",
       "0            NaN    Afghanistan  33.93911  67.709953  2020-01-22          0   \n",
       "1            NaN        Albania  41.15330  20.168300  2020-01-22          0   \n",
       "2            NaN        Algeria  28.03390   1.659600  2020-01-22          0   \n",
       "3            NaN        Andorra  42.50630   1.521800  2020-01-22          0   \n",
       "4            NaN         Angola -11.20270  17.873900  2020-01-22          0   \n",
       "\n",
       "   Deaths  Recovered  Active             WHO Region  \n",
       "0       0          0       0  Eastern Mediterranean  \n",
       "1       0          0       0                 Europe  \n",
       "2       0          0       0                 Africa  \n",
       "3       0          0       0                 Europe  \n",
       "4       0          0       0                 Africa  "
      ]
     },
     "execution_count": 5,
     "metadata": {},
     "output_type": "execute_result"
    }
   ],
   "source": [
    "df.head()"
   ]
  },
  {
   "cell_type": "code",
   "execution_count": 12,
   "id": "5f3424eb",
   "metadata": {},
   "outputs": [
    {
     "data": {
      "text/plain": [
       "(49068, 10)"
      ]
     },
     "execution_count": 12,
     "metadata": {},
     "output_type": "execute_result"
    }
   ],
   "source": [
    "df.shape"
   ]
  },
  {
   "cell_type": "code",
   "execution_count": 6,
   "id": "64aa2fa0",
   "metadata": {},
   "outputs": [
    {
     "data": {
      "text/plain": [
       "Province/State     object\n",
       "Country/Region     object\n",
       "Lat               float64\n",
       "Long              float64\n",
       "Date               object\n",
       "Confirmed           int64\n",
       "Deaths              int64\n",
       "Recovered           int64\n",
       "Active              int64\n",
       "WHO Region         object\n",
       "dtype: object"
      ]
     },
     "execution_count": 6,
     "metadata": {},
     "output_type": "execute_result"
    }
   ],
   "source": [
    "df.dtypes"
   ]
  },
  {
   "cell_type": "code",
   "execution_count": 8,
   "id": "8decb623",
   "metadata": {},
   "outputs": [],
   "source": [
    "df['Date'] = pds.to_datetime(df['Date'])  #convert to date format"
   ]
  },
  {
   "cell_type": "code",
   "execution_count": 9,
   "id": "9c8c5808",
   "metadata": {},
   "outputs": [
    {
     "data": {
      "text/plain": [
       "Province/State            object\n",
       "Country/Region            object\n",
       "Lat                      float64\n",
       "Long                     float64\n",
       "Date              datetime64[ns]\n",
       "Confirmed                  int64\n",
       "Deaths                     int64\n",
       "Recovered                  int64\n",
       "Active                     int64\n",
       "WHO Region                object\n",
       "dtype: object"
      ]
     },
     "execution_count": 9,
     "metadata": {},
     "output_type": "execute_result"
    }
   ],
   "source": [
    "df.dtypes"
   ]
  },
  {
   "cell_type": "code",
   "execution_count": 10,
   "id": "ab411eed",
   "metadata": {},
   "outputs": [
    {
     "data": {
      "text/plain": [
       "Province/State    34404\n",
       "Country/Region        0\n",
       "Lat                   0\n",
       "Long                  0\n",
       "Date                  0\n",
       "Confirmed             0\n",
       "Deaths                0\n",
       "Recovered             0\n",
       "Active                0\n",
       "WHO Region            0\n",
       "dtype: int64"
      ]
     },
     "execution_count": 10,
     "metadata": {},
     "output_type": "execute_result"
    }
   ],
   "source": [
    "df.isnull().sum()    #check missing data"
   ]
  },
  {
   "cell_type": "code",
   "execution_count": 11,
   "id": "2e4da20b",
   "metadata": {},
   "outputs": [
    {
     "data": {
      "text/plain": [
       "188"
      ]
     },
     "execution_count": 11,
     "metadata": {},
     "output_type": "execute_result"
    }
   ],
   "source": [
    "df['Date'].nunique()    #unique no of dates"
   ]
  },
  {
   "cell_type": "code",
   "execution_count": 15,
   "id": "029d1c78",
   "metadata": {},
   "outputs": [
    {
     "name": "stderr",
     "output_type": "stream",
     "text": [
      "<ipython-input-15-c3d05de960db>:1: FutureWarning: Indexing with multiple keys (implicitly converted to a tuple of keys) will be deprecated, use a list instead.\n",
      "  total = df.groupby(['Date'])['Confirmed','Deaths','Recovered','Active'].sum().reset_index()\n"
     ]
    }
   ],
   "source": [
    "total = df.groupby(['Date'])['Confirmed','Deaths','Recovered','Active'].sum().reset_index()"
   ]
  },
  {
   "cell_type": "code",
   "execution_count": 16,
   "id": "1923e5d8",
   "metadata": {},
   "outputs": [
    {
     "data": {
      "text/html": [
       "<div>\n",
       "<style scoped>\n",
       "    .dataframe tbody tr th:only-of-type {\n",
       "        vertical-align: middle;\n",
       "    }\n",
       "\n",
       "    .dataframe tbody tr th {\n",
       "        vertical-align: top;\n",
       "    }\n",
       "\n",
       "    .dataframe thead th {\n",
       "        text-align: right;\n",
       "    }\n",
       "</style>\n",
       "<table border=\"1\" class=\"dataframe\">\n",
       "  <thead>\n",
       "    <tr style=\"text-align: right;\">\n",
       "      <th></th>\n",
       "      <th>Date</th>\n",
       "      <th>Confirmed</th>\n",
       "      <th>Deaths</th>\n",
       "      <th>Recovered</th>\n",
       "      <th>Active</th>\n",
       "    </tr>\n",
       "  </thead>\n",
       "  <tbody>\n",
       "    <tr>\n",
       "      <th>0</th>\n",
       "      <td>2020-01-22</td>\n",
       "      <td>555</td>\n",
       "      <td>17</td>\n",
       "      <td>28</td>\n",
       "      <td>510</td>\n",
       "    </tr>\n",
       "    <tr>\n",
       "      <th>1</th>\n",
       "      <td>2020-01-23</td>\n",
       "      <td>654</td>\n",
       "      <td>18</td>\n",
       "      <td>30</td>\n",
       "      <td>606</td>\n",
       "    </tr>\n",
       "    <tr>\n",
       "      <th>2</th>\n",
       "      <td>2020-01-24</td>\n",
       "      <td>941</td>\n",
       "      <td>26</td>\n",
       "      <td>36</td>\n",
       "      <td>879</td>\n",
       "    </tr>\n",
       "    <tr>\n",
       "      <th>3</th>\n",
       "      <td>2020-01-25</td>\n",
       "      <td>1434</td>\n",
       "      <td>42</td>\n",
       "      <td>39</td>\n",
       "      <td>1353</td>\n",
       "    </tr>\n",
       "    <tr>\n",
       "      <th>4</th>\n",
       "      <td>2020-01-26</td>\n",
       "      <td>2118</td>\n",
       "      <td>56</td>\n",
       "      <td>52</td>\n",
       "      <td>2010</td>\n",
       "    </tr>\n",
       "  </tbody>\n",
       "</table>\n",
       "</div>"
      ],
      "text/plain": [
       "        Date  Confirmed  Deaths  Recovered  Active\n",
       "0 2020-01-22        555      17         28     510\n",
       "1 2020-01-23        654      18         30     606\n",
       "2 2020-01-24        941      26         36     879\n",
       "3 2020-01-25       1434      42         39    1353\n",
       "4 2020-01-26       2118      56         52    2010"
      ]
     },
     "execution_count": 16,
     "metadata": {},
     "output_type": "execute_result"
    }
   ],
   "source": [
    "total.head()   # data for predictions i.e, to build the time series model."
   ]
  },
  {
   "cell_type": "code",
   "execution_count": null,
   "id": "ba8b919c",
   "metadata": {},
   "outputs": [],
   "source": [
    "# ds is expected column name for date, y is that of data to be predicted..."
   ]
  },
  {
   "cell_type": "code",
   "execution_count": 17,
   "id": "c0b86e63",
   "metadata": {},
   "outputs": [],
   "source": [
    "df_prophet = total.rename(columns = {'Date':'ds','Confirmed':'y'})   #df.prophet is the new data frame with col name updations."
   ]
  },
  {
   "cell_type": "code",
   "execution_count": 18,
   "id": "d6809e72",
   "metadata": {},
   "outputs": [
    {
     "data": {
      "text/html": [
       "<div>\n",
       "<style scoped>\n",
       "    .dataframe tbody tr th:only-of-type {\n",
       "        vertical-align: middle;\n",
       "    }\n",
       "\n",
       "    .dataframe tbody tr th {\n",
       "        vertical-align: top;\n",
       "    }\n",
       "\n",
       "    .dataframe thead th {\n",
       "        text-align: right;\n",
       "    }\n",
       "</style>\n",
       "<table border=\"1\" class=\"dataframe\">\n",
       "  <thead>\n",
       "    <tr style=\"text-align: right;\">\n",
       "      <th></th>\n",
       "      <th>ds</th>\n",
       "      <th>y</th>\n",
       "      <th>Deaths</th>\n",
       "      <th>Recovered</th>\n",
       "      <th>Active</th>\n",
       "    </tr>\n",
       "  </thead>\n",
       "  <tbody>\n",
       "    <tr>\n",
       "      <th>0</th>\n",
       "      <td>2020-01-22</td>\n",
       "      <td>555</td>\n",
       "      <td>17</td>\n",
       "      <td>28</td>\n",
       "      <td>510</td>\n",
       "    </tr>\n",
       "    <tr>\n",
       "      <th>1</th>\n",
       "      <td>2020-01-23</td>\n",
       "      <td>654</td>\n",
       "      <td>18</td>\n",
       "      <td>30</td>\n",
       "      <td>606</td>\n",
       "    </tr>\n",
       "    <tr>\n",
       "      <th>2</th>\n",
       "      <td>2020-01-24</td>\n",
       "      <td>941</td>\n",
       "      <td>26</td>\n",
       "      <td>36</td>\n",
       "      <td>879</td>\n",
       "    </tr>\n",
       "    <tr>\n",
       "      <th>3</th>\n",
       "      <td>2020-01-25</td>\n",
       "      <td>1434</td>\n",
       "      <td>42</td>\n",
       "      <td>39</td>\n",
       "      <td>1353</td>\n",
       "    </tr>\n",
       "    <tr>\n",
       "      <th>4</th>\n",
       "      <td>2020-01-26</td>\n",
       "      <td>2118</td>\n",
       "      <td>56</td>\n",
       "      <td>52</td>\n",
       "      <td>2010</td>\n",
       "    </tr>\n",
       "  </tbody>\n",
       "</table>\n",
       "</div>"
      ],
      "text/plain": [
       "          ds     y  Deaths  Recovered  Active\n",
       "0 2020-01-22   555      17         28     510\n",
       "1 2020-01-23   654      18         30     606\n",
       "2 2020-01-24   941      26         36     879\n",
       "3 2020-01-25  1434      42         39    1353\n",
       "4 2020-01-26  2118      56         52    2010"
      ]
     },
     "execution_count": 18,
     "metadata": {},
     "output_type": "execute_result"
    }
   ],
   "source": [
    "df_prophet.head()"
   ]
  },
  {
   "cell_type": "code",
   "execution_count": 19,
   "id": "d1eb0a41",
   "metadata": {},
   "outputs": [],
   "source": [
    "m = Prophet()   #initialising data"
   ]
  },
  {
   "cell_type": "code",
   "execution_count": 21,
   "id": "60dd618f",
   "metadata": {},
   "outputs": [
    {
     "name": "stderr",
     "output_type": "stream",
     "text": [
      "INFO:numexpr.utils:NumExpr defaulting to 8 threads.\n",
      "INFO:fbprophet:Disabling yearly seasonality. Run prophet with yearly_seasonality=True to override this.\n",
      "INFO:fbprophet:Disabling daily seasonality. Run prophet with daily_seasonality=True to override this.\n"
     ]
    }
   ],
   "source": [
    "model = m.fit(df_prophet)   #fitting the data"
   ]
  },
  {
   "cell_type": "code",
   "execution_count": null,
   "id": "719c414f",
   "metadata": {},
   "outputs": [],
   "source": []
  },
  {
   "cell_type": "code",
   "execution_count": 22,
   "id": "5aa52cdb",
   "metadata": {},
   "outputs": [
    {
     "data": {
      "text/plain": [
       "OrderedDict([('weekly',\n",
       "              {'period': 7,\n",
       "               'fourier_order': 3,\n",
       "               'prior_scale': 10.0,\n",
       "               'mode': 'additive',\n",
       "               'condition_name': None})])"
      ]
     },
     "execution_count": 22,
     "metadata": {},
     "output_type": "execute_result"
    }
   ],
   "source": [
    "model.seasonalities"
   ]
  },
  {
   "cell_type": "code",
   "execution_count": 23,
   "id": "0da5c810",
   "metadata": {},
   "outputs": [],
   "source": [
    "future_global = model.make_future_dataframe(periods = 30, freq = 'D')"
   ]
  },
  {
   "cell_type": "code",
   "execution_count": 24,
   "id": "52d40140",
   "metadata": {},
   "outputs": [
    {
     "data": {
      "text/html": [
       "<div>\n",
       "<style scoped>\n",
       "    .dataframe tbody tr th:only-of-type {\n",
       "        vertical-align: middle;\n",
       "    }\n",
       "\n",
       "    .dataframe tbody tr th {\n",
       "        vertical-align: top;\n",
       "    }\n",
       "\n",
       "    .dataframe thead th {\n",
       "        text-align: right;\n",
       "    }\n",
       "</style>\n",
       "<table border=\"1\" class=\"dataframe\">\n",
       "  <thead>\n",
       "    <tr style=\"text-align: right;\">\n",
       "      <th></th>\n",
       "      <th>ds</th>\n",
       "    </tr>\n",
       "  </thead>\n",
       "  <tbody>\n",
       "    <tr>\n",
       "      <th>0</th>\n",
       "      <td>2020-01-22</td>\n",
       "    </tr>\n",
       "    <tr>\n",
       "      <th>1</th>\n",
       "      <td>2020-01-23</td>\n",
       "    </tr>\n",
       "    <tr>\n",
       "      <th>2</th>\n",
       "      <td>2020-01-24</td>\n",
       "    </tr>\n",
       "    <tr>\n",
       "      <th>3</th>\n",
       "      <td>2020-01-25</td>\n",
       "    </tr>\n",
       "    <tr>\n",
       "      <th>4</th>\n",
       "      <td>2020-01-26</td>\n",
       "    </tr>\n",
       "  </tbody>\n",
       "</table>\n",
       "</div>"
      ],
      "text/plain": [
       "          ds\n",
       "0 2020-01-22\n",
       "1 2020-01-23\n",
       "2 2020-01-24\n",
       "3 2020-01-25\n",
       "4 2020-01-26"
      ]
     },
     "execution_count": 24,
     "metadata": {},
     "output_type": "execute_result"
    }
   ],
   "source": [
    "future_global.head()"
   ]
  },
  {
   "cell_type": "code",
   "execution_count": 26,
   "id": "8c75de73",
   "metadata": {},
   "outputs": [
    {
     "data": {
      "text/plain": [
       "183   2020-07-23\n",
       "184   2020-07-24\n",
       "185   2020-07-25\n",
       "186   2020-07-26\n",
       "187   2020-07-27\n",
       "Name: ds, dtype: datetime64[ns]"
      ]
     },
     "execution_count": 26,
     "metadata": {},
     "output_type": "execute_result"
    }
   ],
   "source": [
    "df_prophet['ds'].tail()    #note the last date"
   ]
  },
  {
   "cell_type": "code",
   "execution_count": 27,
   "id": "d4312d9b",
   "metadata": {},
   "outputs": [
    {
     "data": {
      "text/html": [
       "<div>\n",
       "<style scoped>\n",
       "    .dataframe tbody tr th:only-of-type {\n",
       "        vertical-align: middle;\n",
       "    }\n",
       "\n",
       "    .dataframe tbody tr th {\n",
       "        vertical-align: top;\n",
       "    }\n",
       "\n",
       "    .dataframe thead th {\n",
       "        text-align: right;\n",
       "    }\n",
       "</style>\n",
       "<table border=\"1\" class=\"dataframe\">\n",
       "  <thead>\n",
       "    <tr style=\"text-align: right;\">\n",
       "      <th></th>\n",
       "      <th>ds</th>\n",
       "    </tr>\n",
       "  </thead>\n",
       "  <tbody>\n",
       "    <tr>\n",
       "      <th>213</th>\n",
       "      <td>2020-08-22</td>\n",
       "    </tr>\n",
       "    <tr>\n",
       "      <th>214</th>\n",
       "      <td>2020-08-23</td>\n",
       "    </tr>\n",
       "    <tr>\n",
       "      <th>215</th>\n",
       "      <td>2020-08-24</td>\n",
       "    </tr>\n",
       "    <tr>\n",
       "      <th>216</th>\n",
       "      <td>2020-08-25</td>\n",
       "    </tr>\n",
       "    <tr>\n",
       "      <th>217</th>\n",
       "      <td>2020-08-26</td>\n",
       "    </tr>\n",
       "  </tbody>\n",
       "</table>\n",
       "</div>"
      ],
      "text/plain": [
       "            ds\n",
       "213 2020-08-22\n",
       "214 2020-08-23\n",
       "215 2020-08-24\n",
       "216 2020-08-25\n",
       "217 2020-08-26"
      ]
     },
     "execution_count": 27,
     "metadata": {},
     "output_type": "execute_result"
    }
   ],
   "source": [
    "future_global.tail()     #last date here is different (30 days more)[testing data]"
   ]
  },
  {
   "cell_type": "code",
   "execution_count": null,
   "id": "113499f6",
   "metadata": {},
   "outputs": [],
   "source": [
    "# predictions on the future dates"
   ]
  },
  {
   "cell_type": "code",
   "execution_count": 30,
   "id": "1aea3ac7",
   "metadata": {},
   "outputs": [
    {
     "data": {
      "text/html": [
       "<div>\n",
       "<style scoped>\n",
       "    .dataframe tbody tr th:only-of-type {\n",
       "        vertical-align: middle;\n",
       "    }\n",
       "\n",
       "    .dataframe tbody tr th {\n",
       "        vertical-align: top;\n",
       "    }\n",
       "\n",
       "    .dataframe thead th {\n",
       "        text-align: right;\n",
       "    }\n",
       "</style>\n",
       "<table border=\"1\" class=\"dataframe\">\n",
       "  <thead>\n",
       "    <tr style=\"text-align: right;\">\n",
       "      <th></th>\n",
       "      <th>ds</th>\n",
       "      <th>trend</th>\n",
       "      <th>yhat_lower</th>\n",
       "      <th>yhat_upper</th>\n",
       "      <th>trend_lower</th>\n",
       "      <th>trend_upper</th>\n",
       "      <th>additive_terms</th>\n",
       "      <th>additive_terms_lower</th>\n",
       "      <th>additive_terms_upper</th>\n",
       "      <th>weekly</th>\n",
       "      <th>weekly_lower</th>\n",
       "      <th>weekly_upper</th>\n",
       "      <th>multiplicative_terms</th>\n",
       "      <th>multiplicative_terms_lower</th>\n",
       "      <th>multiplicative_terms_upper</th>\n",
       "      <th>yhat</th>\n",
       "    </tr>\n",
       "  </thead>\n",
       "  <tbody>\n",
       "    <tr>\n",
       "      <th>0</th>\n",
       "      <td>2020-01-22</td>\n",
       "      <td>-1.063986e+04</td>\n",
       "      <td>-1.254140e+05</td>\n",
       "      <td>8.418230e+04</td>\n",
       "      <td>-1.063986e+04</td>\n",
       "      <td>-1.063986e+04</td>\n",
       "      <td>-10982.447793</td>\n",
       "      <td>-10982.447793</td>\n",
       "      <td>-10982.447793</td>\n",
       "      <td>-10982.447793</td>\n",
       "      <td>-10982.447793</td>\n",
       "      <td>-10982.447793</td>\n",
       "      <td>0.0</td>\n",
       "      <td>0.0</td>\n",
       "      <td>0.0</td>\n",
       "      <td>-2.162230e+04</td>\n",
       "    </tr>\n",
       "    <tr>\n",
       "      <th>1</th>\n",
       "      <td>2020-01-23</td>\n",
       "      <td>-7.901275e+03</td>\n",
       "      <td>-1.098833e+05</td>\n",
       "      <td>1.023426e+05</td>\n",
       "      <td>-7.901275e+03</td>\n",
       "      <td>-7.901275e+03</td>\n",
       "      <td>-1076.670504</td>\n",
       "      <td>-1076.670504</td>\n",
       "      <td>-1076.670504</td>\n",
       "      <td>-1076.670504</td>\n",
       "      <td>-1076.670504</td>\n",
       "      <td>-1076.670504</td>\n",
       "      <td>0.0</td>\n",
       "      <td>0.0</td>\n",
       "      <td>0.0</td>\n",
       "      <td>-8.977945e+03</td>\n",
       "    </tr>\n",
       "    <tr>\n",
       "      <th>2</th>\n",
       "      <td>2020-01-24</td>\n",
       "      <td>-5.162694e+03</td>\n",
       "      <td>-9.955779e+04</td>\n",
       "      <td>1.035778e+05</td>\n",
       "      <td>-5.162694e+03</td>\n",
       "      <td>-5.162694e+03</td>\n",
       "      <td>10097.471121</td>\n",
       "      <td>10097.471121</td>\n",
       "      <td>10097.471121</td>\n",
       "      <td>10097.471121</td>\n",
       "      <td>10097.471121</td>\n",
       "      <td>10097.471121</td>\n",
       "      <td>0.0</td>\n",
       "      <td>0.0</td>\n",
       "      <td>0.0</td>\n",
       "      <td>4.934777e+03</td>\n",
       "    </tr>\n",
       "    <tr>\n",
       "      <th>3</th>\n",
       "      <td>2020-01-25</td>\n",
       "      <td>-2.424113e+03</td>\n",
       "      <td>-9.710447e+04</td>\n",
       "      <td>1.165164e+05</td>\n",
       "      <td>-2.424113e+03</td>\n",
       "      <td>-2.424113e+03</td>\n",
       "      <td>13741.427160</td>\n",
       "      <td>13741.427160</td>\n",
       "      <td>13741.427160</td>\n",
       "      <td>13741.427160</td>\n",
       "      <td>13741.427160</td>\n",
       "      <td>13741.427160</td>\n",
       "      <td>0.0</td>\n",
       "      <td>0.0</td>\n",
       "      <td>0.0</td>\n",
       "      <td>1.131731e+04</td>\n",
       "    </tr>\n",
       "    <tr>\n",
       "      <th>4</th>\n",
       "      <td>2020-01-26</td>\n",
       "      <td>3.144674e+02</td>\n",
       "      <td>-9.361064e+04</td>\n",
       "      <td>1.138017e+05</td>\n",
       "      <td>3.144674e+02</td>\n",
       "      <td>3.144674e+02</td>\n",
       "      <td>7236.701390</td>\n",
       "      <td>7236.701390</td>\n",
       "      <td>7236.701390</td>\n",
       "      <td>7236.701390</td>\n",
       "      <td>7236.701390</td>\n",
       "      <td>7236.701390</td>\n",
       "      <td>0.0</td>\n",
       "      <td>0.0</td>\n",
       "      <td>0.0</td>\n",
       "      <td>7.551169e+03</td>\n",
       "    </tr>\n",
       "    <tr>\n",
       "      <th>...</th>\n",
       "      <td>...</td>\n",
       "      <td>...</td>\n",
       "      <td>...</td>\n",
       "      <td>...</td>\n",
       "      <td>...</td>\n",
       "      <td>...</td>\n",
       "      <td>...</td>\n",
       "      <td>...</td>\n",
       "      <td>...</td>\n",
       "      <td>...</td>\n",
       "      <td>...</td>\n",
       "      <td>...</td>\n",
       "      <td>...</td>\n",
       "      <td>...</td>\n",
       "      <td>...</td>\n",
       "      <td>...</td>\n",
       "    </tr>\n",
       "    <tr>\n",
       "      <th>213</th>\n",
       "      <td>2020-08-22</td>\n",
       "      <td>2.144058e+07</td>\n",
       "      <td>2.107182e+07</td>\n",
       "      <td>2.182969e+07</td>\n",
       "      <td>2.108757e+07</td>\n",
       "      <td>2.179165e+07</td>\n",
       "      <td>13741.427160</td>\n",
       "      <td>13741.427160</td>\n",
       "      <td>13741.427160</td>\n",
       "      <td>13741.427160</td>\n",
       "      <td>13741.427160</td>\n",
       "      <td>13741.427160</td>\n",
       "      <td>0.0</td>\n",
       "      <td>0.0</td>\n",
       "      <td>0.0</td>\n",
       "      <td>2.145432e+07</td>\n",
       "    </tr>\n",
       "    <tr>\n",
       "      <th>214</th>\n",
       "      <td>2020-08-23</td>\n",
       "      <td>2.164466e+07</td>\n",
       "      <td>2.127353e+07</td>\n",
       "      <td>2.207018e+07</td>\n",
       "      <td>2.125976e+07</td>\n",
       "      <td>2.202425e+07</td>\n",
       "      <td>7236.701390</td>\n",
       "      <td>7236.701390</td>\n",
       "      <td>7236.701390</td>\n",
       "      <td>7236.701390</td>\n",
       "      <td>7236.701390</td>\n",
       "      <td>7236.701390</td>\n",
       "      <td>0.0</td>\n",
       "      <td>0.0</td>\n",
       "      <td>0.0</td>\n",
       "      <td>2.165190e+07</td>\n",
       "    </tr>\n",
       "    <tr>\n",
       "      <th>215</th>\n",
       "      <td>2020-08-24</td>\n",
       "      <td>2.184875e+07</td>\n",
       "      <td>2.143066e+07</td>\n",
       "      <td>2.225024e+07</td>\n",
       "      <td>2.143142e+07</td>\n",
       "      <td>2.225107e+07</td>\n",
       "      <td>-2165.964784</td>\n",
       "      <td>-2165.964784</td>\n",
       "      <td>-2165.964784</td>\n",
       "      <td>-2165.964784</td>\n",
       "      <td>-2165.964784</td>\n",
       "      <td>-2165.964784</td>\n",
       "      <td>0.0</td>\n",
       "      <td>0.0</td>\n",
       "      <td>0.0</td>\n",
       "      <td>2.184658e+07</td>\n",
       "    </tr>\n",
       "    <tr>\n",
       "      <th>216</th>\n",
       "      <td>2020-08-25</td>\n",
       "      <td>2.205283e+07</td>\n",
       "      <td>2.158698e+07</td>\n",
       "      <td>2.249698e+07</td>\n",
       "      <td>2.161335e+07</td>\n",
       "      <td>2.248060e+07</td>\n",
       "      <td>-16850.516589</td>\n",
       "      <td>-16850.516589</td>\n",
       "      <td>-16850.516589</td>\n",
       "      <td>-16850.516589</td>\n",
       "      <td>-16850.516589</td>\n",
       "      <td>-16850.516589</td>\n",
       "      <td>0.0</td>\n",
       "      <td>0.0</td>\n",
       "      <td>0.0</td>\n",
       "      <td>2.203598e+07</td>\n",
       "    </tr>\n",
       "    <tr>\n",
       "      <th>217</th>\n",
       "      <td>2020-08-26</td>\n",
       "      <td>2.225691e+07</td>\n",
       "      <td>2.179466e+07</td>\n",
       "      <td>2.270631e+07</td>\n",
       "      <td>2.179191e+07</td>\n",
       "      <td>2.271338e+07</td>\n",
       "      <td>-10982.447793</td>\n",
       "      <td>-10982.447793</td>\n",
       "      <td>-10982.447793</td>\n",
       "      <td>-10982.447793</td>\n",
       "      <td>-10982.447793</td>\n",
       "      <td>-10982.447793</td>\n",
       "      <td>0.0</td>\n",
       "      <td>0.0</td>\n",
       "      <td>0.0</td>\n",
       "      <td>2.224593e+07</td>\n",
       "    </tr>\n",
       "  </tbody>\n",
       "</table>\n",
       "<p>218 rows × 16 columns</p>\n",
       "</div>"
      ],
      "text/plain": [
       "            ds         trend    yhat_lower    yhat_upper   trend_lower  \\\n",
       "0   2020-01-22 -1.063986e+04 -1.254140e+05  8.418230e+04 -1.063986e+04   \n",
       "1   2020-01-23 -7.901275e+03 -1.098833e+05  1.023426e+05 -7.901275e+03   \n",
       "2   2020-01-24 -5.162694e+03 -9.955779e+04  1.035778e+05 -5.162694e+03   \n",
       "3   2020-01-25 -2.424113e+03 -9.710447e+04  1.165164e+05 -2.424113e+03   \n",
       "4   2020-01-26  3.144674e+02 -9.361064e+04  1.138017e+05  3.144674e+02   \n",
       "..         ...           ...           ...           ...           ...   \n",
       "213 2020-08-22  2.144058e+07  2.107182e+07  2.182969e+07  2.108757e+07   \n",
       "214 2020-08-23  2.164466e+07  2.127353e+07  2.207018e+07  2.125976e+07   \n",
       "215 2020-08-24  2.184875e+07  2.143066e+07  2.225024e+07  2.143142e+07   \n",
       "216 2020-08-25  2.205283e+07  2.158698e+07  2.249698e+07  2.161335e+07   \n",
       "217 2020-08-26  2.225691e+07  2.179466e+07  2.270631e+07  2.179191e+07   \n",
       "\n",
       "      trend_upper  additive_terms  additive_terms_lower  additive_terms_upper  \\\n",
       "0   -1.063986e+04   -10982.447793         -10982.447793         -10982.447793   \n",
       "1   -7.901275e+03    -1076.670504          -1076.670504          -1076.670504   \n",
       "2   -5.162694e+03    10097.471121          10097.471121          10097.471121   \n",
       "3   -2.424113e+03    13741.427160          13741.427160          13741.427160   \n",
       "4    3.144674e+02     7236.701390           7236.701390           7236.701390   \n",
       "..            ...             ...                   ...                   ...   \n",
       "213  2.179165e+07    13741.427160          13741.427160          13741.427160   \n",
       "214  2.202425e+07     7236.701390           7236.701390           7236.701390   \n",
       "215  2.225107e+07    -2165.964784          -2165.964784          -2165.964784   \n",
       "216  2.248060e+07   -16850.516589         -16850.516589         -16850.516589   \n",
       "217  2.271338e+07   -10982.447793         -10982.447793         -10982.447793   \n",
       "\n",
       "           weekly  weekly_lower  weekly_upper  multiplicative_terms  \\\n",
       "0   -10982.447793 -10982.447793 -10982.447793                   0.0   \n",
       "1    -1076.670504  -1076.670504  -1076.670504                   0.0   \n",
       "2    10097.471121  10097.471121  10097.471121                   0.0   \n",
       "3    13741.427160  13741.427160  13741.427160                   0.0   \n",
       "4     7236.701390   7236.701390   7236.701390                   0.0   \n",
       "..            ...           ...           ...                   ...   \n",
       "213  13741.427160  13741.427160  13741.427160                   0.0   \n",
       "214   7236.701390   7236.701390   7236.701390                   0.0   \n",
       "215  -2165.964784  -2165.964784  -2165.964784                   0.0   \n",
       "216 -16850.516589 -16850.516589 -16850.516589                   0.0   \n",
       "217 -10982.447793 -10982.447793 -10982.447793                   0.0   \n",
       "\n",
       "     multiplicative_terms_lower  multiplicative_terms_upper          yhat  \n",
       "0                           0.0                         0.0 -2.162230e+04  \n",
       "1                           0.0                         0.0 -8.977945e+03  \n",
       "2                           0.0                         0.0  4.934777e+03  \n",
       "3                           0.0                         0.0  1.131731e+04  \n",
       "4                           0.0                         0.0  7.551169e+03  \n",
       "..                          ...                         ...           ...  \n",
       "213                         0.0                         0.0  2.145432e+07  \n",
       "214                         0.0                         0.0  2.165190e+07  \n",
       "215                         0.0                         0.0  2.184658e+07  \n",
       "216                         0.0                         0.0  2.203598e+07  \n",
       "217                         0.0                         0.0  2.224593e+07  \n",
       "\n",
       "[218 rows x 16 columns]"
      ]
     },
     "execution_count": 30,
     "metadata": {},
     "output_type": "execute_result"
    }
   ],
   "source": [
    "prediction = model.predict(future_global)\n",
    "prediction"
   ]
  },
  {
   "cell_type": "code",
   "execution_count": 32,
   "id": "a3a5cc4e",
   "metadata": {},
   "outputs": [
    {
     "data": {
      "text/html": [
       "<div>\n",
       "<style scoped>\n",
       "    .dataframe tbody tr th:only-of-type {\n",
       "        vertical-align: middle;\n",
       "    }\n",
       "\n",
       "    .dataframe tbody tr th {\n",
       "        vertical-align: top;\n",
       "    }\n",
       "\n",
       "    .dataframe thead th {\n",
       "        text-align: right;\n",
       "    }\n",
       "</style>\n",
       "<table border=\"1\" class=\"dataframe\">\n",
       "  <thead>\n",
       "    <tr style=\"text-align: right;\">\n",
       "      <th></th>\n",
       "      <th>ds</th>\n",
       "      <th>yhat</th>\n",
       "      <th>yhat_lower</th>\n",
       "      <th>yhat_upper</th>\n",
       "    </tr>\n",
       "  </thead>\n",
       "  <tbody>\n",
       "    <tr>\n",
       "      <th>213</th>\n",
       "      <td>2020-08-22</td>\n",
       "      <td>2.145432e+07</td>\n",
       "      <td>2.107182e+07</td>\n",
       "      <td>2.182969e+07</td>\n",
       "    </tr>\n",
       "    <tr>\n",
       "      <th>214</th>\n",
       "      <td>2020-08-23</td>\n",
       "      <td>2.165190e+07</td>\n",
       "      <td>2.127353e+07</td>\n",
       "      <td>2.207018e+07</td>\n",
       "    </tr>\n",
       "    <tr>\n",
       "      <th>215</th>\n",
       "      <td>2020-08-24</td>\n",
       "      <td>2.184658e+07</td>\n",
       "      <td>2.143066e+07</td>\n",
       "      <td>2.225024e+07</td>\n",
       "    </tr>\n",
       "    <tr>\n",
       "      <th>216</th>\n",
       "      <td>2020-08-25</td>\n",
       "      <td>2.203598e+07</td>\n",
       "      <td>2.158698e+07</td>\n",
       "      <td>2.249698e+07</td>\n",
       "    </tr>\n",
       "    <tr>\n",
       "      <th>217</th>\n",
       "      <td>2020-08-26</td>\n",
       "      <td>2.224593e+07</td>\n",
       "      <td>2.179466e+07</td>\n",
       "      <td>2.270631e+07</td>\n",
       "    </tr>\n",
       "  </tbody>\n",
       "</table>\n",
       "</div>"
      ],
      "text/plain": [
       "            ds          yhat    yhat_lower    yhat_upper\n",
       "213 2020-08-22  2.145432e+07  2.107182e+07  2.182969e+07\n",
       "214 2020-08-23  2.165190e+07  2.127353e+07  2.207018e+07\n",
       "215 2020-08-24  2.184658e+07  2.143066e+07  2.225024e+07\n",
       "216 2020-08-25  2.203598e+07  2.158698e+07  2.249698e+07\n",
       "217 2020-08-26  2.224593e+07  2.179466e+07  2.270631e+07"
      ]
     },
     "execution_count": 32,
     "metadata": {},
     "output_type": "execute_result"
    }
   ],
   "source": [
    "prediction[['ds','yhat','yhat_lower','yhat_upper']].tail()    # predictions"
   ]
  },
  {
   "cell_type": "code",
   "execution_count": null,
   "id": "3bee3d7f",
   "metadata": {},
   "outputs": [],
   "source": [
    "#visualise predictions"
   ]
  },
  {
   "cell_type": "code",
   "execution_count": 34,
   "id": "4caacc62",
   "metadata": {},
   "outputs": [
    {
     "data": {
      "image/png": "[encoded data removed]",
      "text/plain": [
       "<Figure size 720x432 with 1 Axes>"
      ]
     },
     "execution_count": 34,
     "metadata": {},
     "output_type": "execute_result"
    },
    {
     "data": {
      "image/png": "[encoded data removed]",
      "text/plain": [
       "<Figure size 720x432 with 1 Axes>"
      ]
     },
     "metadata": {},
     "output_type": "display_data"
    }
   ],
   "source": [
    "model.plot(prediction)   #light blue line shows the trend"
   ]
  },
  {
   "cell_type": "code",
   "execution_count": null,
   "id": "76dc35a1",
   "metadata": {},
   "outputs": [],
   "source": [
    "# visualise by conditions"
   ]
  },
  {
   "cell_type": "code",
   "execution_count": 35,
   "id": "6fa948ee",
   "metadata": {},
   "outputs": [
    {
     "data": {
      "image/png": "[encoded data removed]",
      "text/plain": [
       "<Figure size 648x432 with 2 Axes>"
      ]
     },
     "execution_count": 35,
     "metadata": {},
     "output_type": "execute_result"
    },
    {
     "data": {
      "image/png": "[encoded data removed]",
      "text/plain": [
       "<Figure size 648x432 with 2 Axes>"
      ]
     },
     "metadata": {},
     "output_type": "display_data"
    }
   ],
   "source": [
    "model.plot_components(prediction)"
   ]
  },
  {
   "cell_type": "code",
   "execution_count": null,
   "id": "90411180",
   "metadata": {},
   "outputs": [],
   "source": [
    "# plotting trend changes"
   ]
  },
  {
   "cell_type": "code",
   "execution_count": 36,
   "id": "c951291f",
   "metadata": {},
   "outputs": [],
   "source": [
    "from fbprophet.plot import add_changepoints_to_plot"
   ]
  },
  {
   "cell_type": "code",
   "execution_count": 38,
   "id": "f6104fa5",
   "metadata": {},
   "outputs": [
    {
     "data": {
      "text/plain": [
       "[[<matplotlib.lines.Line2D at 0x225ff53eeb0>],\n",
       " <matplotlib.lines.Line2D at 0x225ff638e80>,\n",
       " <matplotlib.lines.Line2D at 0x225ff659910>,\n",
       " <matplotlib.lines.Line2D at 0x225ff67e370>,\n",
       " <matplotlib.lines.Line2D at 0x225ff67efa0>,\n",
       " <matplotlib.lines.Line2D at 0x225ff67e850>,\n",
       " <matplotlib.lines.Line2D at 0x225ff67ecd0>,\n",
       " <matplotlib.lines.Line2D at 0x22580210490>,\n",
       " <matplotlib.lines.Line2D at 0x225ff4e08e0>,\n",
       " <matplotlib.lines.Line2D at 0x22580210bb0>,\n",
       " <matplotlib.lines.Line2D at 0x22580210fd0>,\n",
       " <matplotlib.lines.Line2D at 0x2258021a430>]"
      ]
     },
     "execution_count": 38,
     "metadata": {},
     "output_type": "execute_result"
    },
    {
     "data": {
      "image/png": "[encoded data removed]",
      "text/plain": [
       "<Figure size 720x432 with 1 Axes>"
      ]
     },
     "metadata": {},
     "output_type": "display_data"
    }
   ],
   "source": [
    "fig = model.plot(prediction)\n",
    "add_changepoints_to_plot(fig.gca(), model, prediction)"
   ]
  },
  {
   "cell_type": "code",
   "execution_count": null,
   "id": "debecfab",
   "metadata": {},
   "outputs": [],
   "source": [
    "#cross validate time serias data"
   ]
  },
  {
   "cell_type": "code",
   "execution_count": 39,
   "id": "475292ea",
   "metadata": {},
   "outputs": [],
   "source": [
    "from fbprophet.diagnostics import cross_validation"
   ]
  },
  {
   "cell_type": "code",
   "execution_count": 40,
   "id": "f05a4ea0",
   "metadata": {},
   "outputs": [
    {
     "name": "stderr",
     "output_type": "stream",
     "text": [
      "INFO:fbprophet:Making 5 forecasts with cutoffs between 2020-04-28 00:00:00 and 2020-06-27 00:00:00\n"
     ]
    },
    {
     "data": {
      "application/vnd.jupyter.widget-view+json": {
       "model_id": "cb10a57bd3e24427a440aacc90a1fecc",
       "version_major": 2,
       "version_minor": 0
      },
      "text/plain": [
       "  0%|          | 0/5 [00:00<?, ?it/s]"
      ]
     },
     "metadata": {},
     "output_type": "display_data"
    }
   ],
   "source": [
    "df_cv = cross_validation(model, horizon = '30 days', period = '15 days', initial = '90 days')"
   ]
  },
  {
   "cell_type": "code",
   "execution_count": 41,
   "id": "c86fca2a",
   "metadata": {},
   "outputs": [
    {
     "data": {
      "text/html": [
       "<div>\n",
       "<style scoped>\n",
       "    .dataframe tbody tr th:only-of-type {\n",
       "        vertical-align: middle;\n",
       "    }\n",
       "\n",
       "    .dataframe tbody tr th {\n",
       "        vertical-align: top;\n",
       "    }\n",
       "\n",
       "    .dataframe thead th {\n",
       "        text-align: right;\n",
       "    }\n",
       "</style>\n",
       "<table border=\"1\" class=\"dataframe\">\n",
       "  <thead>\n",
       "    <tr style=\"text-align: right;\">\n",
       "      <th></th>\n",
       "      <th>ds</th>\n",
       "      <th>yhat</th>\n",
       "      <th>yhat_lower</th>\n",
       "      <th>yhat_upper</th>\n",
       "      <th>y</th>\n",
       "      <th>cutoff</th>\n",
       "    </tr>\n",
       "  </thead>\n",
       "  <tbody>\n",
       "    <tr>\n",
       "      <th>0</th>\n",
       "      <td>2020-04-29</td>\n",
       "      <td>3.201064e+06</td>\n",
       "      <td>3.195809e+06</td>\n",
       "      <td>3.206616e+06</td>\n",
       "      <td>3185195</td>\n",
       "      <td>2020-04-28</td>\n",
       "    </tr>\n",
       "    <tr>\n",
       "      <th>1</th>\n",
       "      <td>2020-04-30</td>\n",
       "      <td>3.285432e+06</td>\n",
       "      <td>3.279120e+06</td>\n",
       "      <td>3.291175e+06</td>\n",
       "      <td>3268876</td>\n",
       "      <td>2020-04-28</td>\n",
       "    </tr>\n",
       "    <tr>\n",
       "      <th>2</th>\n",
       "      <td>2020-05-01</td>\n",
       "      <td>3.369640e+06</td>\n",
       "      <td>3.361587e+06</td>\n",
       "      <td>3.378897e+06</td>\n",
       "      <td>3355922</td>\n",
       "      <td>2020-04-28</td>\n",
       "    </tr>\n",
       "    <tr>\n",
       "      <th>3</th>\n",
       "      <td>2020-05-02</td>\n",
       "      <td>3.450902e+06</td>\n",
       "      <td>3.438588e+06</td>\n",
       "      <td>3.463660e+06</td>\n",
       "      <td>3437608</td>\n",
       "      <td>2020-04-28</td>\n",
       "    </tr>\n",
       "    <tr>\n",
       "      <th>4</th>\n",
       "      <td>2020-05-03</td>\n",
       "      <td>3.530365e+06</td>\n",
       "      <td>3.514088e+06</td>\n",
       "      <td>3.549330e+06</td>\n",
       "      <td>3515244</td>\n",
       "      <td>2020-04-28</td>\n",
       "    </tr>\n",
       "  </tbody>\n",
       "</table>\n",
       "</div>"
      ],
      "text/plain": [
       "          ds          yhat    yhat_lower    yhat_upper        y     cutoff\n",
       "0 2020-04-29  3.201064e+06  3.195809e+06  3.206616e+06  3185195 2020-04-28\n",
       "1 2020-04-30  3.285432e+06  3.279120e+06  3.291175e+06  3268876 2020-04-28\n",
       "2 2020-05-01  3.369640e+06  3.361587e+06  3.378897e+06  3355922 2020-04-28\n",
       "3 2020-05-02  3.450902e+06  3.438588e+06  3.463660e+06  3437608 2020-04-28\n",
       "4 2020-05-03  3.530365e+06  3.514088e+06  3.549330e+06  3515244 2020-04-28"
      ]
     },
     "execution_count": 41,
     "metadata": {},
     "output_type": "execute_result"
    }
   ],
   "source": [
    "df_cv.head()    #new col cutoff appears"
   ]
  },
  {
   "cell_type": "code",
   "execution_count": 42,
   "id": "289c6a94",
   "metadata": {},
   "outputs": [
    {
     "data": {
      "text/plain": [
       "(150, 6)"
      ]
     },
     "execution_count": 42,
     "metadata": {},
     "output_type": "execute_result"
    }
   ],
   "source": [
    "df_cv.shape"
   ]
  },
  {
   "cell_type": "code",
   "execution_count": null,
   "id": "0e5f2f07",
   "metadata": {},
   "outputs": [],
   "source": [
    "#obtain performance metrics for the model"
   ]
  },
  {
   "cell_type": "code",
   "execution_count": null,
   "id": "d5066a24",
   "metadata": {},
   "outputs": [],
   "source": [
    "# different errors that exists"
   ]
  },
  {
   "cell_type": "code",
   "execution_count": 43,
   "id": "aad00fe3",
   "metadata": {},
   "outputs": [],
   "source": [
    "from fbprophet.diagnostics import performance_metrics"
   ]
  },
  {
   "cell_type": "code",
   "execution_count": 45,
   "id": "1cb391a7",
   "metadata": {},
   "outputs": [],
   "source": [
    "df_performance = performance_metrics(df_cv)"
   ]
  },
  {
   "cell_type": "code",
   "execution_count": 46,
   "id": "889972d6",
   "metadata": {},
   "outputs": [
    {
     "data": {
      "text/html": [
       "<div>\n",
       "<style scoped>\n",
       "    .dataframe tbody tr th:only-of-type {\n",
       "        vertical-align: middle;\n",
       "    }\n",
       "\n",
       "    .dataframe tbody tr th {\n",
       "        vertical-align: top;\n",
       "    }\n",
       "\n",
       "    .dataframe thead th {\n",
       "        text-align: right;\n",
       "    }\n",
       "</style>\n",
       "<table border=\"1\" class=\"dataframe\">\n",
       "  <thead>\n",
       "    <tr style=\"text-align: right;\">\n",
       "      <th></th>\n",
       "      <th>horizon</th>\n",
       "      <th>mse</th>\n",
       "      <th>rmse</th>\n",
       "      <th>mae</th>\n",
       "      <th>mape</th>\n",
       "      <th>mdape</th>\n",
       "      <th>coverage</th>\n",
       "    </tr>\n",
       "  </thead>\n",
       "  <tbody>\n",
       "    <tr>\n",
       "      <th>0</th>\n",
       "      <td>3 days</td>\n",
       "      <td>2.732177e+10</td>\n",
       "      <td>165292.978537</td>\n",
       "      <td>129431.475977</td>\n",
       "      <td>0.016894</td>\n",
       "      <td>0.017781</td>\n",
       "      <td>0.000000</td>\n",
       "    </tr>\n",
       "    <tr>\n",
       "      <th>1</th>\n",
       "      <td>4 days</td>\n",
       "      <td>3.783770e+10</td>\n",
       "      <td>194519.153621</td>\n",
       "      <td>151640.363022</td>\n",
       "      <td>0.019358</td>\n",
       "      <td>0.022609</td>\n",
       "      <td>0.000000</td>\n",
       "    </tr>\n",
       "    <tr>\n",
       "      <th>2</th>\n",
       "      <td>5 days</td>\n",
       "      <td>5.187132e+10</td>\n",
       "      <td>227752.759122</td>\n",
       "      <td>175493.706735</td>\n",
       "      <td>0.021809</td>\n",
       "      <td>0.025662</td>\n",
       "      <td>0.066667</td>\n",
       "    </tr>\n",
       "    <tr>\n",
       "      <th>3</th>\n",
       "      <td>6 days</td>\n",
       "      <td>6.958295e+10</td>\n",
       "      <td>263785.805797</td>\n",
       "      <td>202488.978430</td>\n",
       "      <td>0.024588</td>\n",
       "      <td>0.026660</td>\n",
       "      <td>0.133333</td>\n",
       "    </tr>\n",
       "    <tr>\n",
       "      <th>4</th>\n",
       "      <td>7 days</td>\n",
       "      <td>9.037899e+10</td>\n",
       "      <td>300630.981552</td>\n",
       "      <td>232841.149368</td>\n",
       "      <td>0.027870</td>\n",
       "      <td>0.031220</td>\n",
       "      <td>0.200000</td>\n",
       "    </tr>\n",
       "  </tbody>\n",
       "</table>\n",
       "</div>"
      ],
      "text/plain": [
       "  horizon           mse           rmse            mae      mape     mdape  \\\n",
       "0  3 days  2.732177e+10  165292.978537  129431.475977  0.016894  0.017781   \n",
       "1  4 days  3.783770e+10  194519.153621  151640.363022  0.019358  0.022609   \n",
       "2  5 days  5.187132e+10  227752.759122  175493.706735  0.021809  0.025662   \n",
       "3  6 days  6.958295e+10  263785.805797  202488.978430  0.024588  0.026660   \n",
       "4  7 days  9.037899e+10  300630.981552  232841.149368  0.027870  0.031220   \n",
       "\n",
       "   coverage  \n",
       "0  0.000000  \n",
       "1  0.000000  \n",
       "2  0.066667  \n",
       "3  0.133333  \n",
       "4  0.200000  "
      ]
     },
     "execution_count": 46,
     "metadata": {},
     "output_type": "execute_result"
    }
   ],
   "source": [
    "df_performance.head()"
   ]
  },
  {
   "cell_type": "code",
   "execution_count": null,
   "id": "c0e4e795",
   "metadata": {},
   "outputs": [],
   "source": [
    "#mse - mean squared error\n",
    "#rmse - root mean square error\n",
    "#mae - mean absolute error\n",
    "#mape - mean absolute percent error"
   ]
  },
  {
   "cell_type": "code",
   "execution_count": null,
   "id": "2041d504",
   "metadata": {},
   "outputs": [],
   "source": [
    "# visualising rmse"
   ]
  },
  {
   "cell_type": "code",
   "execution_count": 48,
   "id": "894a298c",
   "metadata": {},
   "outputs": [
    {
     "data": {
      "image/png": "[encoded data removed]",
      "text/plain": [
       "<Figure size 720x432 with 1 Axes>"
      ]
     },
     "metadata": {},
     "output_type": "display_data"
    }
   ],
   "source": [
    "from fbprophet.plot import plot_cross_validation_metric\n",
    "df_performance = plot_cross_validation_metric(df_cv, metric = 'rmse')"
   ]
  },
  {
   "cell_type": "code",
   "execution_count": 49,
   "id": "41c0a4d1",
   "metadata": {},
   "outputs": [
    {
     "data": {
      "image/png": "[encoded data removed]",
      "text/plain": [
       "<Figure size 720x432 with 1 Axes>"
      ]
     },
     "metadata": {},
     "output_type": "display_data"
    }
   ],
   "source": [
    "df_performance = plot_cross_validation_metric(df_cv, metric = 'mse')"
   ]
  },
  {
   "cell_type": "code",
   "execution_count": 50,
   "id": "8b556bb5",
   "metadata": {},
   "outputs": [
    {
     "data": {
      "image/png": "[encoded data removed]",
      "text/plain": [
       "<Figure size 720x432 with 1 Axes>"
      ]
     },
     "metadata": {},
     "output_type": "display_data"
    }
   ],
   "source": [
    "df_performance = plot_cross_validation_metric(df_cv, metric = 'mape')"
   ]
  },
  {
   "cell_type": "code",
   "execution_count": null,
   "id": "da7fbb93",
   "metadata": {},
   "outputs": [],
   "source": []
  }
 ],
 "metadata": {
  "kernelspec": {
   "display_name": "Python 3",
   "language": "python",
   "name": "python3"
  },
  "language_info": {
   "codemirror_mode": {
    "name": "ipython",
    "version": 3
   },
   "file_extension": ".py",
   "mimetype": "text/x-python",
   "name": "python",
   "nbconvert_exporter": "python",
   "pygments_lexer": "ipython3",
   "version": "3.8.8"
  }
 },
 "nbformat": 4,
 "nbformat_minor": 5
}
